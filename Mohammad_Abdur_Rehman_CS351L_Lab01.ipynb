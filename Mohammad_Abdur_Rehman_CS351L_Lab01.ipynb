{
  "nbformat": 4,
  "nbformat_minor": 0,
  "metadata": {
    "colab": {
      "provenance": [],
      "authorship_tag": "ABX9TyMT53hABRNJoWl/8ipWiiRA",
      "include_colab_link": true
    },
    "kernelspec": {
      "name": "python3",
      "display_name": "Python 3"
    },
    "language_info": {
      "name": "python"
    }
  },
  "cells": [
    {
      "cell_type": "markdown",
      "metadata": {
        "id": "view-in-github",
        "colab_type": "text"
      },
      "source": [
        "<a href=\"https://colab.research.google.com/github/MohammedAbdurRehman/CS-351L---AI-Lab-GitHub-Repository_2022299/blob/main/Mohammad_Abdur_Rehman_CS351L_Lab01.ipynb\" target=\"_parent\"><img src=\"https://colab.research.google.com/assets/colab-badge.svg\" alt=\"Open In Colab\"/></a>"
      ]
    },
    {
      "cell_type": "code",
      "execution_count": null,
      "metadata": {
        "id": "pSa1vf0jGTbl"
      },
      "outputs": [],
      "source": []
    },
    {
      "cell_type": "markdown",
      "source": [
        "# **CS-351L Aritificial Intelligence Lab-01**\n",
        "\n",
        "## **Lab Task**\n",
        "\n",
        "**Game Idea:** Number Guessing Game.\n",
        "\n",
        "**Objective:** The player has to guess a randomly chosen number between 1 and 100.\n",
        "\n",
        "**AI Version:** The AI will attempt to guess the player's chosen number using strategies (like binary search).\n",
        "\n",
        "In this task, We were given a number guessing game(AI version) where we have to decide a number between 1-100 and AI will make a guess of that number using a search algoithm, Initially we were given a Code with Binary Search Algorithm, which is appended below:\n",
        "\n",
        "\n"
      ],
      "metadata": {
        "id": "NZmv7Dj7GUfP"
      }
    },
    {
      "cell_type": "code",
      "source": [
        "import random #lIBRARY FOR RANDOM NUMBER GENERATION\n",
        "def ai_number_guessing_game():\n",
        "    # Player selects a number\n",
        "    print(\"Think of a number between 1 and 100, and I (the AI) will try to guess it.\")\n",
        "    #INITIALISING THE VARIABLES\n",
        "    low = 1\n",
        "    high = 100\n",
        "    attempts = 0\n",
        "\n",
        "    # Loop until the AI guesses the number or Something went wrong condition as low is always lesser than high\n",
        "    while low <= high:\n",
        "        guess = (low + high) // 2  # AI uses binary search to guess\n",
        "        attempts += 1\n",
        "\n",
        "        print(f\"AI's guess is: {guess}\")\n",
        "        feedback = input(\"Enter 'h' if too high, 'l' if too low, or 'c' if correct: \").lower()\n",
        "\n",
        "        if feedback == 'c':\n",
        "            print(f\"I (AI) guessed the number in {attempts} attempts!\")\n",
        "            return\n",
        "        elif feedback == 'h':\n",
        "            high = guess - 1  # If too high, reduce the upper bound\n",
        "        elif feedback == 'l':\n",
        "            low = guess + 1  # If too low, increase the lower bound\n",
        "\n",
        "    print(\"Something went wrong!\")\n",
        "\n",
        "# Run the AI version\n",
        "ai_number_guessing_game()"
      ],
      "metadata": {
        "id": "yBFb4g65HnX-"
      },
      "execution_count": null,
      "outputs": []
    },
    {
      "cell_type": "markdown",
      "source": [
        "In this code, it follows a very simple logic of binary search, Now we have to implement the same code with BFS and DFS, along with a third algorithm which in my case is Golden-Ratio\n",
        "\n",
        "## **Implementation using BFS**\n",
        "\n",
        "Code:\n"
      ],
      "metadata": {
        "id": "Y5BcN593H0d7"
      }
    },
    {
      "cell_type": "code",
      "source": [
        "from collections import deque\n",
        "import random\n",
        "\n",
        "def ai_number_guessing_game_bfs():\n",
        "    # Player selects a number\n",
        "    print(\"Think of a number between 1 and 100, and I (the AI) will try to guess it.\")\n",
        "    low = 1\n",
        "    high = 100\n",
        "    attempts = 0\n",
        "\n",
        "    # Queue for BFS\n",
        "    queue = deque([(low, high)])\n",
        "\n",
        "    while queue:\n",
        "        low, high = queue.popleft()\n",
        "        if low > high:\n",
        "            continue\n",
        "\n",
        "        guess = (low + high) // 2  # AI makes a guess in the middle of the range\n",
        "        attempts += 1\n",
        "\n",
        "        print(f\"AI's guess is: {guess}\")\n",
        "        feedback = input(\"Enter 'h' if too high, 'l' if too low, or 'c' if correct: \").lower()\n",
        "\n",
        "        if feedback == 'c':\n",
        "            print(f\"I (AI) guessed the number in {attempts} attempts!\")\n",
        "            return\n",
        "        elif feedback == 'h':\n",
        "            queue.append((low, guess - 1))  # If too high, add the lower range to the queue\n",
        "        elif feedback == 'l':\n",
        "            queue.append((guess + 1, high))  # If too low, add the upper range to the queue\n",
        "\n",
        "    print(\"Something went wrong!\")\n",
        "\n",
        "# Run the AI version with BFS\n",
        "ai_number_guessing_game_bfs()\n"
      ],
      "metadata": {
        "colab": {
          "base_uri": "https://localhost:8080/"
        },
        "id": "PaHhM2FOJac3",
        "outputId": "ec025ee2-e1f6-4196-bcee-db7d67ccfc96"
      },
      "execution_count": 2,
      "outputs": [
        {
          "output_type": "stream",
          "name": "stdout",
          "text": [
            "Think of a number between 1 and 100, and I (the AI) will try to guess it.\n",
            "AI's guess is: 50\n",
            "Enter 'h' if too high, 'l' if too low, or 'c' if correct: l\n",
            "AI's guess is: 75\n",
            "Enter 'h' if too high, 'l' if too low, or 'c' if correct: h\n",
            "AI's guess is: 62\n",
            "Enter 'h' if too high, 'l' if too low, or 'c' if correct: l\n",
            "AI's guess is: 68\n",
            "Enter 'h' if too high, 'l' if too low, or 'c' if correct: l\n",
            "AI's guess is: 71\n",
            "Enter 'h' if too high, 'l' if too low, or 'c' if correct: h\n",
            "AI's guess is: 69\n",
            "Enter 'h' if too high, 'l' if too low, or 'c' if correct: l\n",
            "AI's guess is: 70\n",
            "Enter 'h' if too high, 'l' if too low, or 'c' if correct: c\n",
            "I (AI) guessed the number in 7 attempts!\n"
          ]
        }
      ]
    },
    {
      "cell_type": "markdown",
      "source": [
        "\n",
        "\n",
        "While using bfs, it splits the set into half, if user prompt that its low it deletes all the values lesser than the guess and if user prompts guess is higher it deletes all the values higher than the guess, narrowing down the set to make a successful guess.\n",
        "\n",
        "## **Implementation Using DFS**"
      ],
      "metadata": {
        "id": "OVuYfYX2QsBT"
      }
    },
    {
      "cell_type": "code",
      "source": [
        "def ai_number_guessing_game_dfs():\n",
        "    # Player selects a number\n",
        "    print(\"Think of a number between 1 and 100, and I (the AI) will try to guess it.\")\n",
        "\n",
        "    # Initial variables\n",
        "    low = 1\n",
        "    high = 100\n",
        "    attempts = 0\n",
        "\n",
        "    # Stack for DFS (initialize with the entire range)\n",
        "    stack = list(range(low, high + 1))  # DFS will explore all numbers from low to high sequentially\n",
        "\n",
        "    # Loop until the AI guesses the number correctly or the stack is empty\n",
        "    while stack:\n",
        "        # Pop the last number from the stack (deepest element first, simulating DFS)\n",
        "        guess = stack.pop()\n",
        "        attempts += 1\n",
        "\n",
        "        print(f\"AI's guess is: {guess}\")\n",
        "        feedback = input(\"Enter 'h' if too high, 'l' if too low, or 'c' if correct: \").lower()\n",
        "\n",
        "        if feedback == 'c':\n",
        "            print(f\"I (AI) guessed the number in {attempts} attempts!\")\n",
        "            return\n",
        "        elif feedback == 'h':\n",
        "            # If too high, remove all higher numbers from the stack (skip exploration of higher numbers)\n",
        "            stack = [x for x in stack if x < guess]\n",
        "        elif feedback == 'l':\n",
        "            # If too low, remove all lower numbers from the stack (skip exploration of lower numbers)\n",
        "            stack = [x for x in stack if x > guess]\n",
        "\n",
        "    print(\"Something went wrong!\")\n",
        "\n",
        "# Run the AI version with DFS behavior\n",
        "ai_number_guessing_game_dfs()\n",
        "\n"
      ],
      "metadata": {
        "colab": {
          "base_uri": "https://localhost:8080/"
        },
        "id": "_pza_DbkKqT4",
        "outputId": "22ed1ac1-1fde-4a7c-ba73-a8c7e5843d9e"
      },
      "execution_count": 3,
      "outputs": [
        {
          "output_type": "stream",
          "name": "stdout",
          "text": [
            "Think of a number between 1 and 100, and I (the AI) will try to guess it.\n",
            "AI's guess is: 100\n",
            "Enter 'h' if too high, 'l' if too low, or 'c' if correct: h\n",
            "AI's guess is: 99\n",
            "Enter 'h' if too high, 'l' if too low, or 'c' if correct: h\n",
            "AI's guess is: 98\n",
            "Enter 'h' if too high, 'l' if too low, or 'c' if correct: h\n",
            "AI's guess is: 97\n",
            "Enter 'h' if too high, 'l' if too low, or 'c' if correct: c\n",
            "I (AI) guessed the number in 4 attempts!\n"
          ]
        }
      ]
    },
    {
      "cell_type": "markdown",
      "source": [
        "The thing to note in DFS implementation is that realistically in this game DFS approach is not convinient, as it works on the principle of deep searching where it starts from one end lets say 100, and makes the guess by predicting each value systematically till the guess isn't made right, which to me isn't the right approach for such a game.\n",
        "\n",
        "\n",
        "## **Implementation Using Golden-Ratio**\n",
        "\n",
        "Code:\n",
        "\n"
      ],
      "metadata": {
        "id": "URKAuqUDK0jj"
      }
    },
    {
      "cell_type": "code",
      "source": [
        "import random\n",
        "\n",
        "def ai_number_guessing_game_golden_ratio():\n",
        "    # Player selects a number\n",
        "    print(\"Think of a number between 1 and 100, and I (the AI) will try to guess it.\")\n",
        "    low = 1\n",
        "    high = 100\n",
        "    attempts = 0\n",
        "\n",
        "    # Golden ratio\n",
        "    phi = (1 + 5 ** 0.5) / 2\n",
        "\n",
        "    while low <= high:\n",
        "        # Calculate the golden ratio point\n",
        "        guess = int(high - (high - low) / phi)\n",
        "        attempts += 1\n",
        "\n",
        "        print(f\"AI's guess is: {guess}\")\n",
        "        feedback = input(\"Enter 'h' if too high, 'l' if too low, or 'c' if correct: \").lower()\n",
        "\n",
        "        if feedback == 'c':\n",
        "            print(f\"I (AI) guessed the number in {attempts} attempts!\")\n",
        "            return\n",
        "        elif feedback == 'h':\n",
        "            high = guess - 1\n",
        "        elif feedback == 'l':\n",
        "            low = guess + 1\n",
        "\n",
        "    print(\"Something went wrong!\")\n",
        "\n",
        "# Run the AI version with Golden Ratio\n",
        "ai_number_guessing_game_golden_ratio()\n"
      ],
      "metadata": {
        "colab": {
          "base_uri": "https://localhost:8080/"
        },
        "id": "lL5z-ZoRMbHg",
        "outputId": "8642ffc8-e1f7-4958-8b4e-d45183139ee8"
      },
      "execution_count": 4,
      "outputs": [
        {
          "output_type": "stream",
          "name": "stdout",
          "text": [
            "Think of a number between 1 and 100, and I (the AI) will try to guess it.\n",
            "AI's guess is: 38\n",
            "Enter 'h' if too high, 'l' if too low, or 'c' if correct: l\n",
            "AI's guess is: 62\n",
            "Enter 'h' if too high, 'l' if too low, or 'c' if correct: l\n",
            "AI's guess is: 77\n",
            "Enter 'h' if too high, 'l' if too low, or 'c' if correct: h\n",
            "AI's guess is: 67\n",
            "Enter 'h' if too high, 'l' if too low, or 'c' if correct: l\n",
            "AI's guess is: 71\n",
            "Enter 'h' if too high, 'l' if too low, or 'c' if correct: h\n",
            "AI's guess is: 68\n",
            "Enter 'h' if too high, 'l' if too low, or 'c' if correct: l\n",
            "AI's guess is: 69\n",
            "Enter 'h' if too high, 'l' if too low, or 'c' if correct: l\n",
            "AI's guess is: 70\n",
            "Enter 'h' if too high, 'l' if too low, or 'c' if correct: c\n",
            "I (AI) guessed the number in 8 attempts!\n"
          ]
        }
      ]
    },
    {
      "cell_type": "markdown",
      "source": [
        "In this approach, we use golden-ratio formula and golden-ratio i.e. 1.618 to make the guess, in this case if the guess is higher it lowers the range by one and similarly if its low it increases the range by one."
      ],
      "metadata": {
        "id": "Mv8KV1zLMjUQ"
      }
    }
  ]
}