{
  "nbformat": 4,
  "nbformat_minor": 0,
  "metadata": {
    "colab": {
      "provenance": [],
      "authorship_tag": "ABX9TyMa19szeHqVeTg/VfHty9Tn",
      "include_colab_link": true
    },
    "kernelspec": {
      "name": "python3",
      "display_name": "Python 3"
    },
    "language_info": {
      "name": "python"
    }
  },
  "cells": [
    {
      "cell_type": "markdown",
      "metadata": {
        "id": "view-in-github",
        "colab_type": "text"
      },
      "source": [
        "<a href=\"https://colab.research.google.com/github/MohammedAbdurRehman/CS-351L---AI-Lab-GitHub-Repository_2022299/blob/main/Mohammad_Abdur_Rehman_CS351L_Lab04.ipynb\" target=\"_parent\"><img src=\"https://colab.research.google.com/assets/colab-badge.svg\" alt=\"Open In Colab\"/></a>"
      ]
    },
    {
      "cell_type": "markdown",
      "source": [
        "\n",
        "\n",
        "### Model: k-Nearest Neighbors (k-NN)\n",
        "- **Description**: k-NN is a simple, non-parametric classification algorithm. It classifies a data point based on the majority class among its k nearest neighbors in the feature space.\n",
        "- **Working**: The algorithm calculates the distance (typically Euclidean) between the input instance and all training samples, identifies the closest k instances, and assigns the most common class label among them.\n",
        "\n",
        "### Dataset: RCV1\n",
        "- **Description**: The Reuters Corpus Volume 1 (RCV1) dataset contains over 800,000 news documents with 47,236 features (word counts).\n",
        "- **Target Classes**: The dataset supports multi-label classification. For simplification, only one target label is used for binary classification (e.g., relevant or not).\n",
        "\n",
        "### Code Workflow\n",
        "1. **Import Libraries**: Essential libraries for data handling, model building, and visualization are imported.\n",
        "2. **Load Dataset**: The RCV1 dataset is fetched, extracting features and a single target label.\n",
        "3. **Display Information**: Key statistics about the dataset, such as the number of samples, features, and class distribution, are printed.\n",
        "4. **Split Data**: The dataset is divided into training and testing sets to evaluate model performance.\n",
        "5. **Train Model**: The k-NN model is trained on the training data.\n",
        "6. **Make Predictions**: The model predicts classes for the test data.\n",
        "7. **Evaluate Performance**: The accuracy and a classification report are generated to assess the model's effectiveness.\n",
        "8. **Visualize Results**: Dimensionality reduction is applied for visualization, displaying the classified results in a 2D scatter plot.\n",
        "\n"
      ],
      "metadata": {
        "id": "tQ-CUn3g4yva"
      }
    },
    {
      "cell_type": "code",
      "execution_count": 1,
      "metadata": {
        "colab": {
          "base_uri": "https://localhost:8080/"
        },
        "id": "iY5OIR_x8eEN",
        "outputId": "d98289f0-6375-4fbe-ddee-d04ef719b7dd"
      },
      "outputs": [
        {
          "output_type": "stream",
          "name": "stdout",
          "text": [
            "RCV1 Dataset Information:\n",
            "Number of samples: 804414\n",
            "Number of features: 47236\n",
            "Number of target classes: 2\n",
            "Class distribution: [780089  24325]\n",
            "\n",
            "Dataset too large for dense conversion.\n"
          ]
        }
      ],
      "source": [
        "# Import necessary libraries\n",
        "import numpy as np\n",
        "import pandas as pd\n",
        "from sklearn.datasets import fetch_rcv1\n",
        "from sklearn.model_selection import train_test_split\n",
        "from sklearn.neighbors import KNeighborsClassifier\n",
        "from sklearn.metrics import accuracy_score, classification_report\n",
        "import matplotlib.pyplot as plt\n",
        "from scipy.sparse import csr_matrix\n",
        "from sklearn.decomposition import TruncatedSVD\n",
        "\n",
        "# Load a subset of the RCV1 dataset\n",
        "rcv1 = fetch_rcv1()\n",
        "X = rcv1.data  # Features (sparse matrix)\n",
        "y = rcv1.target[:, 0].toarray().ravel()  # Using only one label\n",
        "\n",
        "# Display dataset information\n",
        "print(\"RCV1 Dataset Information:\")\n",
        "print(f\"Number of samples: {X.shape[0]}\")\n",
        "print(f\"Number of features: {X.shape[1]}\")\n",
        "print(f\"Number of target classes: {np.unique(y).shape[0]}\")\n",
        "print(f\"Class distribution: {np.bincount(y)}\\n\")\n",
        "\n",
        "# Split the data into training and testing sets (sparse matrix needs to be preserved)\n",
        "X_train, X_test, y_train, y_test = train_test_split(X, y, test_size=0.3, random_state=42)\n",
        "\n",
        "# Implementing k-Nearest Neighbors with k=3\n",
        "knn = KNeighborsClassifier(n_neighbors=3)\n",
        "\n",
        "# k-NN doesn't handle sparse matrices directly, so we convert them to dense (only for a manageable size)\n",
        "if X_train.shape[0] <= 10000:  # Process only if the dataset is small\n",
        "    X_train_dense = X_train.toarray()\n",
        "    X_test_dense = X_test.toarray()\n",
        "\n",
        "    knn.fit(X_train_dense, y_train)  # Train the k-NN model\n",
        "\n",
        "    # Making predictions on the test set\n",
        "    y_pred = knn.predict(X_test_dense)\n",
        "\n",
        "    # Evaluate the model's performance\n",
        "    accuracy = accuracy_score(y_test, y_pred)\n",
        "    classification_rep = classification_report(y_test, y_pred)\n",
        "\n",
        "    # Print accuracy and classification report\n",
        "    print(f\"Accuracy of k-NN: {accuracy * 100:.2f}%\")\n",
        "    print(\"\\nClassification Report:\\n\", classification_rep)\n",
        "\n",
        "    # Reducing to 2 dimensions for visualization\n",
        "    svd = TruncatedSVD(n_components=2)\n",
        "    X_test_2d = svd.fit_transform(X_test_dense)\n",
        "\n",
        "    # Visualizing the data after classification (2D projection)\n",
        "    plt.figure(figsize=(8, 6))\n",
        "    plt.scatter(X_test_2d[:, 0], X_test_2d[:, 1], c=y_pred, cmap='coolwarm', edgecolor='k', s=10)\n",
        "    plt.title('RCV1 Dataset Classification Visualization (After Classification)')\n",
        "    plt.xlabel('SVD Component 1')\n",
        "    plt.ylabel('SVD Component 2')\n",
        "    colorbar = plt.colorbar(label='Predicted Classes')\n",
        "    colorbar.set_ticks([0, 1])\n",
        "    colorbar.set_ticklabels(['Class 0', 'Class 1'])  # Adjust based on the chosen target\n",
        "    plt.show()\n",
        "else:\n",
        "    print(\"Dataset too large for dense conversion.\")\n"
      ]
    }
  ]
}